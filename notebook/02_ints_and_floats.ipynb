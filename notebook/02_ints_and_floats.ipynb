{
 "cells": [
  {
   "cell_type": "markdown",
   "metadata": {},
   "source": [
    "<style> p { max-width: 500px; } </style>\n",
    "# [Integers and Floating-Point Numbers](https://docs.julialang.org/en/v1/manual/integers-and-floating-point-numbers/#Integers-and-Floating-Point-Numbers)\n",
    "\n",
    "The types are exactly what you'd expect.\n",
    "\n",
    "They take the form: `[U]Int(n)` where n in the number of bits.\n",
    "\n",
    "Things like `Int8`, `UInt64`, and `Int128` can be expected.\n",
    "\n",
    "Doesn't seem to be a 256-bit type, but who needs those really?\n",
    "\n",
    "You've also got `Float(n)` where the bits options are 16, 32, and 64.\n",
    "That's your standard half, `single`, and `double`.\n",
    "\n",
    "I'm guessing you'd use a `Float64` 99% of the time.\n",
    "\n",
    "There's also a `Bool` type for true/false values (it's stated to be eight bits).\n",
    "\n",
    "Integers will default to the number of bits of the system.\n",
    "e.g. `typeof(123)` will be `Int32` on a 32-bit system and `Int64` on a 64-bit.\n",
    "\n",
    "They'll automatically be promoted when needed."
   ]
  },
  {
   "cell_type": "code",
   "execution_count": null,
   "metadata": {},
   "outputs": [
    {
     "name": "stdout",
     "output_type": "stream",
     "text": [
      "Int64\n",
      "UInt8\n",
      "UInt16\n",
      "BigInt\n",
      "Float64\n",
      "0\n",
      "-2147483648\n",
      "340282366920938463463374607431768211455\n",
      "Inf\n",
      "-2\n",
      "251\n",
      "255\n",
      "65535\n",
      "-66\n",
      "BigInt\n",
      "UInt8\n",
      "257\n",
      "Int64\n",
      "257\n",
      "Int64\n",
      "4294967296\n",
      "Int64\n",
      "0\n",
      "UInt64\n",
      "0\n"
     ]
    }
   ],
   "source": [
    "# Defaults to system size, signed.\n",
    "println(typeof(123))\n",
    "\n",
    "# Hexadeciam is handled smartly. \n",
    "# This defaults to (unsigned) 8-bit.\n",
    "println(typeof(0x01))\n",
    "\n",
    "# Whereas this defaults to 16-bit due to the leading zeros.\n",
    "println(typeof(0x0001))\n",
    "\n",
    "# This is too big to fit into a UInt128 and it promoted to a BigInt.\n",
    "# Very nice.\n",
    "println(typeof(1000000000000000000000000000000000000000))\n",
    "\n",
    "# Floats seems to just get given Float64 by default.\n",
    "println(typeof(0.01))\n",
    "\n",
    "\n",
    "# Zero\n",
    "println(typemin(UInt32))\n",
    "\n",
    "# The expected value.\n",
    "println(typemin(Int32))\n",
    "\n",
    "# A very large number indeed.\n",
    "println(typemax(UInt128))\n",
    "\n",
    "# Inf\n",
    "println(typemax(Float64))\n",
    "\n",
    "# Compliation error. \n",
    "#println(typemax(BigInt))\n"
   ]
  },
  {
   "cell_type": "markdown",
   "metadata": {},
   "source": [
    "## [Overflow behavior](https://docs.julialang.org/en/v1/manual/integers-and-floating-point-numbers/#Overflow-behavior)"
   ]
  },
  {
   "cell_type": "code",
   "execution_count": null,
   "metadata": {},
   "outputs": [
    {
     "name": "stdout",
     "output_type": "stream",
     "text": [
      "-2\n",
      "251\n",
      "255\n",
      "65535\n",
      "-66\n",
      "BigInt\n",
      "UInt8\n",
      "257\n",
      "Int64\n",
      "257\n",
      "Int64\n",
      "4294967296\n",
      "Int64\n",
      "0\n",
      "UInt64\n",
      "0\n",
      "2147483648\n",
      "-9223372036854775808\n"
     ]
    }
   ],
   "source": [
    "\n",
    "println(-2)\n",
    "\n",
    "# An unsigned wrap around (251)\n",
    "x = -0x05\n",
    "println(x)\n",
    "\n",
    "# 255 as expected.\n",
    "x = -0b0001\n",
    "println(x)\n",
    "\n",
    "# Results in 65535 as a result of its promotion to 16-bit.\n",
    "x = -0b00000000001\n",
    "println(x)\n",
    "\n",
    "# No wrap around, results in BigInt with a value of -66.\n",
    "x = -0x0000000000000000000000000000000000000000000000000000000042\n",
    "println(x)\n",
    "println(typeof(x))\n",
    "\n",
    "# Does not overflow, it is prompted from UInt8 to UInt64.flags.\n",
    "# Both when doing calculations *and* the variable when adding to itself.\n",
    "x = 0xFF\n",
    "println(typeof(x))\n",
    "println(x + 2)\n",
    "println(typeof(x + 2))\n",
    "x = x + 2\n",
    "println(x)\n",
    "println(typeof(x))\n",
    "\n",
    "# This doesn't overflow either.\n",
    "x = typemax(UInt32)\n",
    "x = x + 1\n",
    "println(x)\n",
    "println(typeof(x))\n",
    "\n",
    "# This overflows... why though?\n",
    "# Why not promote to UInt128? \n",
    "# Does it depending on the platform size and only do calculations in that???\n",
    "x = typemax(UInt64)\n",
    "x = x + 1\n",
    "println(x)\n",
    "println(typeof(x))\n",
    "\n",
    "x = typemax(UInt128)\n",
    "x = x + 1\n",
    "println(x)\n",
    "\n",
    "# Again this doesn't overflow.\n",
    "x = typemax(Int32)\n",
    "x = x + 1\n",
    "println(x)\n",
    "\n",
    "# This does.\n",
    "x = typemax(Int64)\n",
    "x = x + 1\n",
    "println(x)\n"
   ]
  },
  {
   "cell_type": "markdown",
   "metadata": {},
   "source": [
    "<style> p { max-width: 500px; } </style>\n",
    "So that's quite.... interesting.\n",
    "\n",
    "The overflow logic is a little inconsistant, but it's defined at least.\n",
    "\n",
    "They say you can use `Base.Checked` if you need a return that says when an overflow occurred."
   ]
  },
  {
   "cell_type": "markdown",
   "metadata": {},
   "source": [
    "# [Floating-Point Numbers](https://docs.julialang.org/en/v1/manual/integers-and-floating-point-numbers/#Floating-Point-Numbers)"
   ]
  },
  {
   "cell_type": "code",
   "execution_count": 1,
   "metadata": {},
   "outputs": [
    {
     "name": "stdout",
     "output_type": "stream",
     "text": [
      "Float64\n",
      "Float64\n",
      "0.5\n",
      "25000.0\n",
      "0.30000000000000004\n",
      "0.0005\n",
      "Float32\n",
      "16.0\n",
      "Float64\n",
      "0.2\n",
      "0.299951171875\n",
      "Float16\n",
      "0011111111001001100110011001100110011001100110011001100110011010\n"
     ]
    }
   ],
   "source": [
    "# A Flaat64 is used by default.\n",
    "x = 1.0\n",
    "println(typeof(x))\n",
    "\n",
    "# Supports the standard method of using a redundant dot to indicate a float.\n",
    "x = 1.\n",
    "println(typeof(x))\n",
    "\n",
    "# You can leave off the leading zero, which is nice.\n",
    "x = .5\n",
    "println(x)\n",
    "\n",
    "# The standard e-notation is supported.\n",
    "x = 25e3\n",
    "println(x)\n",
    "\n",
    "# The usual error with floats apply (0.1 + 0.2 ≠ 0.3)\n",
    "x = 0.1 + 0.2\n",
    "println(x)\n",
    "\n",
    "# Use an 'f' rather than an 'e' to do a single precision float (Float32).\n",
    "x = 0.5f-3\n",
    "println(x)\n",
    "println(typeof(x))\n",
    "\n",
    "# Hex floats are possible with a 'p'\n",
    "x = 0x4p2\n",
    "println(x)\n",
    "println(typeof(x))\n",
    "\n",
    "# No special syntax for Float16. \n",
    "x = Float16(0.2)\n",
    "println(x)\n",
    "println(x + 0.1)\n",
    "println(typeof(x))\n",
    "\n",
    "# Bitstring shows the binary contexts of a value.\n",
    "println(bitstring(0.2))"
   ]
  },
  {
   "cell_type": "markdown",
   "metadata": {},
   "source": [
    "Yeah, I don't think there's any reason to use Float16.\n",
    "\n",
    "It's slower by default and much less accurate.\n",
    "\n",
    "Maybe you need to save memory or export it to a GPU?\n",
    "\n",
    "Maybe support will one day become common place on x86?\n"
   ]
  },
  {
   "cell_type": "markdown",
   "metadata": {},
   "source": [
    "<style> p { max-width: 500px; } </style>\n",
    "The 'f' (single precision) and 'p' (hex float) seem interesting.\n",
    "\n",
    "But I think most of the time you'd be using a double.\n",
    "\n",
    "All your usual floating point rules apply (e.g. `NaN ≠ NaN`).\n",
    "\n",
    "Though `1/0` and `1.0/0` are allowed and equal `Inf` (with sign of dividend preserved).\n",
    "\n"
   ]
  },
  {
   "cell_type": "code",
   "execution_count": 3,
   "metadata": {},
   "outputs": [
    {
     "name": "stdout",
     "output_type": "stream",
     "text": [
      "1.0\n",
      "Float64\n",
      "Inf\n",
      "Float64\n",
      "1\n",
      "Int64\n",
      "Inf\n",
      "Float64\n",
      "1\n",
      "Int64\n",
      "Inf\n",
      "Float64\n"
     ]
    }
   ],
   "source": [
    "# Results in `Inf` as you'd expect.\n",
    "println(1.0)\n",
    "println(typeof(1.0))\n",
    "println(1.0/0)\n",
    "println(typeof(1.0/0))\n",
    "\n",
    "# ...also results in `Inf` as integer is converted to Float64\n",
    "println(1)\n",
    "println(typeof(1))\n",
    "println(1/0)\n",
    "println(typeof(1/0))\n",
    "\n",
    "# Even when done with variables?!\n",
    "x = 1\n",
    "println(x)\n",
    "println(typeof(x))\n",
    "x = x / 0\n",
    "println(x)\n",
    "println(typeof(x))\n"
   ]
  },
  {
   "cell_type": "markdown",
   "metadata": {},
   "source": [
    "<style> p { max-width: 500px; } </style>\n",
    "Once again Julia's implict type conversion is just... weird.\n",
    "\n",
    "Is there a way to constrain the type???"
   ]
  },
  {
   "cell_type": "code",
   "execution_count": 8,
   "metadata": {},
   "outputs": [
    {
     "name": "stdout",
     "output_type": "stream",
     "text": [
      "2.220446049250313e-16\n",
      "2.220446049250313e-16\n",
      "1.1920929e-7\n",
      "0.000977\n",
      "2.7755575615628914e-17\n",
      "0.20000000000000004\n",
      "0.19999999999999998\n"
     ]
    }
   ],
   "source": [
    "# eps - epsilon - Defaults to Float64\n",
    "println(eps())\n",
    "\n",
    "println(eps(Float64))\n",
    "\n",
    "println(eps(Float32))\n",
    "\n",
    "println(eps(Float16))\n",
    "\n",
    "# Can also be used on a float to determine the distance to the next value.\n",
    "println(eps(0.2))\n",
    "\n",
    "println(nextfloat(0.2))\n",
    "println(prevfloat(0.2))\n"
   ]
  },
  {
   "cell_type": "markdown",
   "metadata": {},
   "source": [
    "The workings of floats is definitely something I should study further. \n",
    "\n",
    "Many excellent links were provided."
   ]
  },
  {
   "cell_type": "markdown",
   "metadata": {},
   "source": [
    "<style> p { max-width: 500px; } </style>\n",
    "\n",
    "## [Arbitrary Precision Arithmetic](https://docs.julialang.org/en/v1/manual/integers-and-floating-point-numbers/#Arbitrary-Precision-Arithmetic)\n",
    "\n",
    "So there's not just `BigInt`, but also `BigFloat`.\n",
    "\n",
    "Having both of these built in is really nice.\n",
    "\n",
    "You have the methods `setprecision` and `setrounding` to set the standard maximums for when the value is irrational.\n",
    "\n",
    "Let's have a play around."
   ]
  },
  {
   "cell_type": "code",
   "execution_count": 18,
   "metadata": {},
   "outputs": [
    {
     "name": "stdout",
     "output_type": "stream",
     "text": [
      "12345678901234567890\n",
      "BigInt\n",
      "123456789012345678901234567890\n",
      "BigInt\n",
      "0.1000000000000000055511151231257827021181583404541015625\n",
      "BigFloat\n",
      "0.1000000000000000000000000000000000000000000000000000000000000000000000000000002\n",
      "BigFloat\n",
      "0.3000000000000000000000000000000000000000000000000000000000000000000000000000017\n",
      "BigFloat\n",
      "0.30000000000018\n",
      "0.3000000000000000000000000000000000000000000000000000000000000000000000000000006477126416320833469039763897100299678337000273327211038767777602626443852371820293478630627604216169920410470459612247697746324210123960020239752832793556081014685332775115966796875\n"
     ]
    }
   ],
   "source": [
    "# Standard initialiser.\n",
    "x = BigInt(12345678901234567890)\n",
    "println(x)\n",
    "println(typeof(x))\n",
    "\n",
    "# Quoted - probably not needed here.\n",
    "# Common in languages without native big types.\n",
    "x = big\"123456789012345678901234567890\"\n",
    "println(x)\n",
    "println(typeof(x))\n",
    "\n",
    "# Decimal values are always created as double,\n",
    "# Meaning this time we have a type conversation error.\n",
    "# The type is a BigFloat but it loses accurate from the intermediate conversation.\n",
    "x = BigFloat(0.1)\n",
    "println(x)\n",
    "println(typeof(x))\n",
    "\n",
    "# A better quoted definition.\n",
    "# This is still accurate but interestingly there's an error after the last (79th) decimal place.\n",
    "x = BigFloat(\"0.1\")\n",
    "println(x)\n",
    "println(typeof(x))\n",
    "\n",
    "# This error can still accumulate.\n",
    "x = big\"0.1\" + big\"0.2\"\n",
    "println(x)\n",
    "println(typeof(x))\n",
    "\n",
    "setprecision(40) do\n",
    "    println(big\"0.1\" + big\"0.2\")\n",
    "end\n",
    "\n",
    "setprecision(1024) do\n",
    "    println(big\"0.1\" + big\"0.2\")\n",
    "end\n"
   ]
  },
  {
   "cell_type": "markdown",
   "metadata": {},
   "source": [
    "<style> p { max-width: 500px; } </style>\n",
    "\n",
    "## [Numeric Literal Coefficients](https://docs.julialang.org/en/v1/manual/integers-and-floating-point-numbers/#man-numeric-literal-coefficients)\n",
    "\n",
    "Looks like there's some very nice math code:\n"
   ]
  },
  {
   "cell_type": "code",
   "execution_count": 30,
   "metadata": {},
   "outputs": [
    {
     "name": "stdout",
     "output_type": "stream",
     "text": [
      "60\n",
      "66\n",
      "Z=25\n",
      "√z=5.0\n",
      "15\n"
     ]
    }
   ],
   "source": [
    "x = 5\n",
    "y = 2\n",
    "\n",
    "# Scalars can go right in front of constants.\n",
    "println(12x)\n",
    "println(12x+3y)\n",
    "\n",
    "# I'm glad the carot is being used as a power symbol, and not xor.\n",
    "# Nobody needs xor *that* much.\n",
    "z = x^2\n",
    "\n",
    "# Apparently you can't use a '+' in string building...\n",
    "# This comma in `println` seems to work.\n",
    "println(\"Z=\",z)\n",
    "println(\"√z=\", √z)\n",
    "\n",
    "# This implicit multiplicationeven works with variables.\n",
    "# But... it must come *after* a bracket, not before.\n",
    "z = (y+1)x\n",
    "println(z)\n",
    "\n",
    "# And you can't do this:\n",
    "#(x+5)(y-2)\n",
    "\n",
    "\n"
   ]
  },
  {
   "cell_type": "markdown",
   "metadata": {},
   "source": [
    "<style> p { max-width: 500px; } </style>\n",
    "Well that should make formulae *so* much easier to write.\n",
    "\n",
    "This works really well as a mathematical language.\n",
    "\n",
    "You can just... use a square root sign. Or put a scaler in front of a variable.\n",
    "\n",
    "Great stuff!\n",
    "\n",
    "I have heard people complain that it's hard to type these keys, but if you have a compose key (or WinCompose when on Windows) it's dead simple. I guess that makes you more inclined to use them."
   ]
  },
  {
   "cell_type": "markdown",
   "metadata": {},
   "source": [
    "One last thing.... the zero and one functions.\n"
   ]
  },
  {
   "cell_type": "code",
   "execution_count": 32,
   "metadata": {},
   "outputs": [
    {
     "name": "stdout",
     "output_type": "stream",
     "text": [
      "0.0\n",
      "0.0\n",
      "1.0\n",
      "1\n"
     ]
    }
   ],
   "source": [
    "println(zero(Float32))\n",
    "\n",
    "println(zero(Float16))\n",
    "\n",
    "println(one(BigFloat))\n",
    "\n",
    "println(one(Int64))"
   ]
  },
  {
   "cell_type": "markdown",
   "metadata": {},
   "source": [
    "<style> p { max-width: 500px; } </style>\n",
    "Apparently this helps avoid type conversion? \n",
    "\n",
    "I'm not sure.\n",
    "\n",
    "It'll be great when I learn some control flow.\n",
    "\n",
    "I'm really itching to write some real programs to try out this newly learnt language! 😀\n",
    "\n"
   ]
  }
 ],
 "metadata": {
  "kernelspec": {
   "display_name": "Julia 1.11.2",
   "language": "julia",
   "name": "julia-1.11"
  },
  "language_info": {
   "file_extension": ".jl",
   "mimetype": "application/julia",
   "name": "julia",
   "version": "1.11.2"
  }
 },
 "nbformat": 4,
 "nbformat_minor": 2
}
