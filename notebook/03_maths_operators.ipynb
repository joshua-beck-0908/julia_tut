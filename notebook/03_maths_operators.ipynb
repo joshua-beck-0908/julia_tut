{
 "cells": [
  {
   "cell_type": "markdown",
   "metadata": {},
   "source": [
    "<style> p { max-width: 500px; } </style>\n",
    "\n",
    "# [Mathematical Operations and Elementary Functions](https://docs.julialang.org/en/v1/manual/mathematical-operations/#Mathematical-Operations-and-Elementary-Functions)\n",
    "\n",
    "No, there's still more operators.\n",
    "\n",
    "## [Arithmetic Operators](https://docs.julialang.org/en/v1/manual/mathematical-operations/#Arithmetic-Operators)\n",
    "\n",
    "Here's the table:\n",
    "| Expression | Name           | Description                            |\n",
    "| ---        | ---            | ---                                    |\n",
    "| +x         | unary plus     | the identity operation                 |\n",
    "| -x         | unary minus    | maps values to their additive inverses |\n",
    "| x + y      | binary plus    | performs addition                      |\n",
    "| x - y      | binary minus   | performs subtraction                   |\n",
    "| x * y      | times          | performs multiplication                |\n",
    "| x / y      | divide         | performs division                      |\n",
    "| x ÷ y      | integer divide | x / y, truncated to an integer         |\n",
    "| x \\ y      | inverse divide | equivalent to y / x                    |\n",
    "| x ^ y      | power          | raises x to the yth power              |\n",
    "| x % y      | remainder      | equivalent to rem(x, y)                |\n",
    "\n",
    "So there's your usual `+-*/%` operators which do exactly what you'd expect.\n",
    "\n",
    "Well... maybe not the `/`, since division is float by default, and the unusual operator `÷` takes its place for integer division. \n",
    "\n",
    "Then to add even more to division the backslash `\\` operator is used for an inverse division (meaning the arguments are swapped around).\n",
    "\n",
    "Then we have the (fortunate) use of the carot for power.\n",
    "\n",
    "Finally there's unary minus for negation (and other inverses), but also a unary plus as an \"identity operation\"??? Maybe it's just for matricies.\n",
    "\n",
    "Then there's ```NaN * false == 0.0``` and ```false * Inf == 0.0```.\n",
    "\n",
    "An unusual choice.\n",
    "\n",
    "It seems like the kind of thing that might have been arbitrarily chosen by the language designed and never justified.\n",
    "\n",
    "**Not so!** They not only justified it but *[provided a paper as to why.](https://arxiv.org/abs/math/9205211)*\n",
    "\n",
    "    This is useful for preventing the\n",
    "    propagation of NaN values in quantities\n",
    "    that are known to be zero.\n",
    "    See Knuth (1992) for motivation.\n",
    "    \n",
    "This is called a \"strong zero\".\n",
    "\n",
    "![A strong zero](data/001_strong_zero.png)\n",
    "\n"
   ]
  },
  {
   "cell_type": "markdown",
   "metadata": {},
   "source": [
    "<style> p { max-width: 500px; } </style>\n",
    "\n",
    "## [Boolean Operators](https://docs.julialang.org/en/v1/manual/mathematical-operations/#Boolean-Operators)\n",
    "\n",
    "Only a few boolean operators:\n",
    "\n",
    "| Expression | Name                 |\n",
    "| ---        | ---                  |\n",
    "| !x         | negation             |\n",
    "| x && y     | short-circuiting and |\n",
    "| x \\|\\| y     | short-circuiting or  |\n",
    "\n",
    "Nothing unexpected here.\n",
    "\n",
    "Note that they really do mean boolean (`Bool` type) as there's no type coercion to boolean, so it must be a real `Bool` or condition.\n",
    "\n",
    "On the otherhand, `Bool` *is an integer type*. So you do get the classic `true + 1 == 2`...\n",
    "![extra true](data/000_extra_true.png)\n",
    "\n"
   ]
  },
  {
   "cell_type": "markdown",
   "metadata": {},
   "source": [
    "<style> p { max-width: 500px; } </style>\n",
    "\n",
    "## [Bitwise Operators](https://docs.julialang.org/en/v1/manual/mathematical-operations/#Bitwise-Operators)\n",
    "\n",
    "| Expression | Name                          |\n",
    "| ---        | ---                           |\n",
    "| ~x         | bitwise not                   |\n",
    "| x & y      | bitwise and                   |\n",
    "| x \\| y      | bitwise or                    |\n",
    "| x ⊻ y      | bitwise xor (exclusive or)    |\n",
    "| x ⊼ y      | bitwise nand (not and)        |\n",
    "| x ⊽ y      | bitwise nor (not or)          |\n",
    "| x >>> y    | logical shift right           |\n",
    "| x >> y     | arithmetic shift right        |\n",
    "| x << y     | logical/arithmetic shift left |\n",
    "\n",
    "Hmm... so there's the usual stuff `~,&,|,<<,>>`.\n",
    "\n",
    "Additionally there's a `>>>` operator which is a... logical shift right?\n",
    "\n",
    "Isn't that just a normal right shift?\n",
    "\n",
    "What's the difference between that and `>>`?\n",
    "\n",
    "Let's find out.\n",
    "\n"
   ]
  },
  {
   "cell_type": "code",
   "execution_count": 3,
   "metadata": {},
   "outputs": [
    {
     "name": "stdout",
     "output_type": "stream",
     "text": [
      "1\n",
      "1\n",
      "-2\n",
      "4611686018427387902\n"
     ]
    }
   ],
   "source": [
    "println(5 >> 2)\n",
    "println(5 >>> 2)\n",
    "println(-5 >> 2)\n",
    "println(-5 >>> 2)"
   ]
  },
  {
   "cell_type": "markdown",
   "metadata": {},
   "source": [
    "<style> p { max-width: 500px; } </style>\n",
    "\n",
    "Oh. Well that makes sense.\n",
    "\n",
    "With the `>>` operator, negative number get shifted left in the same way as positive number. Whereas with a two's complement that wouldn't be true for a normal left shift.\n",
    "\n",
    "I remember having to mess around with flags a bit to get that working when I did x86 assembly.\n",
    "\n",
    "So there's also a few interesting ones for `⊻` xor, `⊼` nand, and `⊽` nor.\n",
    "\n",
    "I'm not sure how often I'd use the less common logic operators (maybe xor), but it's good to have the proper logic symbols available.\n",
    "\n",
    "You can also do all the boolean operators with the equals equivalent, e.g. `<<` and `=<<`.\n",
    "\n"
   ]
  }
 ],
 "metadata": {
  "kernelspec": {
   "display_name": "Julia 1.11.2",
   "language": "julia",
   "name": "julia-1.11"
  },
  "language_info": {
   "file_extension": ".jl",
   "mimetype": "application/julia",
   "name": "julia",
   "version": "1.11.2"
  }
 },
 "nbformat": 4,
 "nbformat_minor": 2
}
