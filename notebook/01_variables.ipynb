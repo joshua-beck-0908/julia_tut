{
 "cells": [
  {
   "cell_type": "markdown",
   "metadata": {},
   "source": [
    "<style> p { max-width: 500px; } </style>\n",
    "\n",
    "# [Variables](https://docs.julialang.org/en/v1/manual/variables/#man-variables)\n",
    "\n",
    "It doesn't seem like names need any qualifier.\n",
    "\n"
   ]
  },
  {
   "cell_type": "code",
   "execution_count": 5,
   "metadata": {},
   "outputs": [
    {
     "data": {
      "text/plain": [
       "11"
      ]
     },
     "execution_count": 5,
     "metadata": {},
     "output_type": "execute_result"
    }
   ],
   "source": [
    "# Declaration/Assignment\n",
    "x = 10\n",
    "\n",
    "# Maths\n",
    "x + 1\n",
    "\n",
    "# Setting a value\n",
    "x = x + 1"
   ]
  },
  {
   "cell_type": "markdown",
   "metadata": {},
   "source": [
    "<style> p { max-width: 500px; } </style>\n",
    "I'd prefer an explict declaration. 👎\n",
    "\n",
    "Is there any management of type?"
   ]
  },
  {
   "cell_type": "markdown",
   "metadata": {},
   "source": [
    "<style> p { max-width: 500px; } </style>\n",
    "Names can vary just by case, not ideal.\n"
   ]
  },
  {
   "cell_type": "code",
   "execution_count": 6,
   "metadata": {},
   "outputs": [
    {
     "data": {
      "text/plain": [
       "5"
      ]
     },
     "execution_count": 6,
     "metadata": {},
     "output_type": "execute_result"
    }
   ],
   "source": [
    "x = 5\n",
    "X = 6\n",
    "x"
   ]
  },
  {
   "cell_type": "markdown",
   "metadata": {},
   "source": [
    "<style> p { max-width: 500px; } </style>\n",
    "Long names use snake_case: "
   ]
  },
  {
   "cell_type": "code",
   "execution_count": 7,
   "metadata": {},
   "outputs": [
    {
     "data": {
      "text/plain": [
       "\"Hello world!\""
      ]
     },
     "execution_count": 7,
     "metadata": {},
     "output_type": "execute_result"
    }
   ],
   "source": [
    "customary_phrase = \"Hello world!\""
   ]
  },
  {
   "cell_type": "markdown",
   "metadata": {},
   "source": [
    "<style> p { max-width: 500px; } </style>\n",
    "...or not? I guess it's up to you.\n",
    "\n",
    "I'll see what the standard library uses.\n",
    "\n",
    "Hopefully not the nasty \"terse-case\" like C."
   ]
  },
  {
   "cell_type": "code",
   "execution_count": 8,
   "metadata": {},
   "outputs": [
    {
     "data": {
      "text/plain": [
       "\"Hello\""
      ]
     },
     "execution_count": 8,
     "metadata": {},
     "output_type": "execute_result"
    }
   ],
   "source": [
    "UniversalDeclarationOfHumanRightsStart = \"人人生而自由，在尊严和权利上一律平等。\"\n",
    "\"人人生而自由，在尊严和权利上一律平等。\"\n",
    "δ = 0.00001\n",
    "안녕하세요 = \"Hello\""
   ]
  },
  {
   "cell_type": "markdown",
   "metadata": {},
   "source": [
    "<style> p { max-width: 500px; } </style>\n",
    "I'm loving the UTF-8 support in both strings and identifiers so far. \n",
    "\n",
    "Identifiers will let you use whatever characters you want as long as it doesn't conflict with a keyword, start with a number, or redefine a const/function.\n",
    "\n",
    "Really great to see modern languages getting this right.\n",
    "\n",
    "Let's try it out."
   ]
  },
  {
   "cell_type": "code",
   "execution_count": null,
   "metadata": {},
   "outputs": [
    {
     "name": "stdout",
     "output_type": "stream",
     "text": [
      "3.141592653589793\n",
      "2\n"
     ]
    }
   ],
   "source": [
    "# Can't remember any more. Need to learn import.\n",
    "π = 3.14159265358979323846\n",
    "\n",
    "# Just guessed this would exist. Seems to work.\n",
    "println(π)\n",
    "\n",
    "# Whaaaaaaa? That works? With no asterix? Very nice!\n",
    "10π\n",
    "\n",
    "# Seems we need all lowercase bools.\n",
    "a = false\n",
    "\n",
    "strawberry = \"苺\"\n",
    "\n",
    "# 名前\n",
    "ユーザー名 = \"Bob\"\n",
    "\n",
    "# Actual division symbols rather than an awkward slash!\n",
    "println(5 ÷ 2)\n"
   ]
  },
  {
   "cell_type": "markdown",
   "metadata": {},
   "source": [
    "<style> p { max-width: 500px; } </style>\n",
    "Well, I can't see any problems here.\n",
    "All unicode be working fiiiiine. 👍\n",
    "\n",
    "Apparently all underscore variables are allowed, but are write only.\n",
    "They just exist to be used as dummy variables."
   ]
  },
  {
   "cell_type": "markdown",
   "metadata": {},
   "source": [
    "## [Assignment expressions and assignment versus mutation](https://docs.julialang.org/en/v1/manual/variables/#man-assignment-expressions)\n",
    "\n",
    "\n"
   ]
  },
  {
   "cell_type": "code",
   "execution_count": 10,
   "metadata": {},
   "outputs": [
    {
     "name": "stdout",
     "output_type": "stream",
     "text": [
      "7\n",
      "4\n",
      "[50, 2, 3]\n",
      "[50, 2, 3]\n"
     ]
    }
   ],
   "source": [
    "# Ever contriversial chain assignment...\n",
    "a = (b = 2+2) + 3\n",
    "# a and b are seperate variables.\n",
    "println(a)\n",
    "println(b)\n",
    "\n",
    "a = [1,2,3]\n",
    "b = a\n",
    "a[1] = 50\n",
    "# Here a and b are pointers to the same variable!\n",
    "println(a)\n",
    "println(b)\n"
   ]
  },
  {
   "cell_type": "markdown",
   "metadata": {},
   "source": [
    "<style> p { max-width: 500px; } </style>\n",
    "As with most languages, copying is not implicit for anything other than simple numeric types. Changing the value does mutate it in memory.\n",
    "\n",
    "The argument passing happens basically as you would expect.\n",
    "\n"
   ]
  },
  {
   "cell_type": "markdown",
   "metadata": {},
   "source": [
    "<style> p,ul { max-width: 800px; } </style>\n",
    "## [Stylistic Conventions](https://docs.julialang.org/en/v1/manual/variables/#Stylistic-Conventions)\n",
    "\n",
    "Let's go through these recommendations:\n",
    " * *Names of variables are in lower case.*\n",
    "    - Okay, so no camelCase?\n",
    " * *Word separation can be indicated by underscores ('_'), but use of underscores is discouraged unless the name would be hard to read otherwise.*\n",
    "    - I will be using long descriptive names not some unreadable C-style terse shitshow.\n",
    "    - With the exception of those that can be represented a more appropriate greek letter.\n",
    " * *Names of Types and Modules begin with a capital letter and word separation is shown with upper camel case instead of underscores.*\n",
    "    - A little inconsistant, but I can see the logic behind it.\n",
    " * *Names of functions and macros are in lower case, without underscores.*\n",
    "    - My brain keeps try to find a way I've misread that, but no.\n",
    "    - Zero word separation?! That's just a straight up bad idea. Yikes.\n",
    "    - It's important to remember style guides are just a suggestions.\n",
    " * *Functions that write to their arguments have names that end in !. These are sometimes called \"mutating\" or \"in-place\" functions because they are intended to produce changes in their arguments after the function is called, not just return a value.*\n",
    "    - The function... name changes? Not the parameter being modified?\n",
    "    - Well, it's a good idea to point out argument modification, but surely a parameter keyword (ideally enforced by the compiler) would be better?\n",
    "    \n",
    "I'm not exactly filled with confidence about the community code after reading this."
   ]
  }
 ],
 "metadata": {
  "kernelspec": {
   "display_name": "Julia 1.11.2",
   "language": "julia",
   "name": "julia-1.11"
  },
  "language_info": {
   "file_extension": ".jl",
   "mimetype": "application/julia",
   "name": "julia",
   "version": "1.11.2"
  }
 },
 "nbformat": 4,
 "nbformat_minor": 2
}
