{
 "cells": [
  {
   "cell_type": "markdown",
   "metadata": {},
   "source": [
    "<style> p { max-width: 600px; } </style>\n",
    "# The Julia Programming Language\n",
    "\n",
    "I'm restarting this learning project. \n",
    "\n",
    "I started a project months ago, but I didn't get very far as it was before I'd really perfected this learning system so it was messy.\n",
    "\n",
    "Anyway... without further ado.\n"
   ]
  },
  {
   "cell_type": "markdown",
   "metadata": {},
   "source": [
    "<style> p { max-width: 600px; } </style>\n",
    "\n",
    "I'll learn from the official tutorial material on the following page:\n",
    "\n",
    "https://docs.julialang.org/en/v1/manual/getting-started/\n"
   ]
  },
  {
   "cell_type": "markdown",
   "metadata": {},
   "source": [
    "<style> p { max-width: 500px; } </style>\n",
    "The language is already [installed](https://docs.julialang.org/en/v1/manual/getting-started/) with [plugins](https://github.com/JuliaLang/IJulia.jl) added to my Jupyter server."
   ]
  }
 ],
 "metadata": {
  "kernelspec": {
   "display_name": "Julia 1.11.2",
   "language": "julia",
   "name": "julia-1.11"
  },
  "language_info": {
   "name": "julia"
  }
 },
 "nbformat": 4,
 "nbformat_minor": 2
}
